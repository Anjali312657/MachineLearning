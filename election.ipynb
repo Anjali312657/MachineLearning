{
 "cells": [
  {
   "cell_type": "code",
   "execution_count": null,
   "metadata": {
    "collapsed": true,
    "deletable": false,
    "editable": false,
    "nbgrader": {
     "grade": false,
     "locked": true,
     "solution": false
    }
   },
   "outputs": [],
   "source": [
    "import os\n",
    "import pandas\n",
    "import random\n",
    "from sklearn.linear_model import LinearRegression\n",
    "from sklearn.naive_bayes import MultinomialNB\n",
    "\n",
    "def get_party_history(data, party):\n",
    "    \"\"\"Return election results per year for a given party, with state-by-state results as columns\"\"\"\n",
    "    party_data = data[data['party_simplified']==party]\n",
    "    party_history = None\n",
    "    for state in states:\n",
    "        history = party_data[party_data['state_po']==state][['year', 'percentvotes']]\n",
    "        history = history.rename(columns={'percentvotes': state})\n",
    "        if party_history is None:\n",
    "            party_history = history\n",
    "        else:\n",
    "            party_history = party_history.join(history.set_index('year'), on='year')\n",
    "    return party_history\n",
    "\n",
    "# Load data file\n",
    "fname = os.path.join('..', 'resource', 'asnlib', 'publicdata', '1976-2020-president.csv')\n",
    "data = pandas.read_csv(fname)\n",
    "# Add a column for the fraction of the vote that each candidate one\n",
    "data['percentvotes'] = data['candidatevotes']/data['totalvotes']\n",
    "# Record state codes that appear in the data\n",
    "states = set(data['state_po'])\n"
   ]
  },
  {
   "cell_type": "code",
   "execution_count": 2,
   "metadata": {
    "collapsed": true,
    "scrolled": false
   },
   "outputs": [],
   "source": [
    "from itertools import combinations\n",
    "import numpy as np\n",
    "\n",
    "\n",
    "state = 'CA'\n",
    "\n",
    "\n",
    "history = get_party_history(data,'DEMOCRAT')\n",
    "\n",
    "\n",
    "\n",
    "best_states3 = sorted(states - {state}, key=lambda s: LinearRegression().fit(history[sorted(list({state, s}))], history[state]).score(history[sorted(list({state, s}))], history[state]), reverse=True)[:3]\n",
    "\n",
    "best_states5 = sorted(states - {state}, key=lambda s: LinearRegression().fit(history[sorted(list({state, s}))], history[state]).score(history[sorted(list({state, s}))], history[state]), reverse=True)[:5]\n",
    "\n",
    "\n"
   ]
  },
  {
   "cell_type": "code",
   "execution_count": 3,
   "metadata": {
    "deletable": false,
    "editable": false,
    "nbgrader": {
     "grade": true,
     "grade_id": "3-State Model Works",
     "locked": true,
     "points": "20",
     "solution": false
    },
    "scrolled": false
   },
   "outputs": [
    {
     "name": "stdout",
     "output_type": "stream",
     "text": [
      "Your chosen states (NJ, OR, RI) lead to a model with a score of 0.99\n"
     ]
    }
   ],
   "source": [
    "state = 'CA'\n",
    "party = 'DEMOCRAT'\n",
    "history = get_party_history(data, party)\n",
    "assert state not in best_states3, 'You haven\\'t included California in your states'\n",
    "assert len(set(best_states3) & states) == 3, 'You have not provided 3 states'\n",
    "X = history[best_states3]\n",
    "y = history[state]\n",
    "\n",
    "reg = LinearRegression()\n",
    "reg.fit(X, y)\n",
    "score = reg.score(X, y)\n",
    "print(f'Your chosen states ({\", \".join(sorted(best_states3))}) lead to a model with a score of {score:.2f}')"
   ]
  },
  {
   "cell_type": "code",
   "execution_count": 4,
   "metadata": {
    "deletable": false,
    "editable": false,
    "nbgrader": {
     "grade": true,
     "grade_id": "3-State Model Is Good",
     "locked": true,
     "points": "30",
     "solution": false
    },
    "scrolled": true
   },
   "outputs": [
    {
     "name": "stdout",
     "output_type": "stream",
     "text": [
      "Your model is sufficiently accurate\n"
     ]
    }
   ],
   "source": [
    "assert score > 0.9, 'Your score is not greater than 0.9'\n",
    "print('Your model is sufficiently accurate')"
   ]
  },
  {
   "cell_type": "code",
   "execution_count": 5,
   "metadata": {
    "deletable": false,
    "editable": false,
    "nbgrader": {
     "grade": true,
     "grade_id": "5-State Model Works",
     "locked": true,
     "points": "20",
     "solution": false
    }
   },
   "outputs": [
    {
     "name": "stdout",
     "output_type": "stream",
     "text": [
      "Your chosen states (IL, KS, NJ, OR, RI) lead to a model with a score of 0.99\n"
     ]
    }
   ],
   "source": [
    "state = 'CA'\n",
    "party = 'DEMOCRAT'\n",
    "history = get_party_history(data, party)\n",
    "assert state not in best_states5, 'You haven\\'t included California in your states'\n",
    "assert len(set(best_states5) & states) == 5, 'You have not provided 5 states'\n",
    "X = history[best_states5]\n",
    "y = history[state]\n",
    "\n",
    "reg = LinearRegression()\n",
    "reg.fit(X, y)\n",
    "score = reg.score(X, y)\n",
    "print(f'Your chosen states ({\", \".join(sorted(best_states5[:5]))}) lead to a model with a score of {score:.2f}')\n"
   ]
  },
  {
   "cell_type": "code",
   "execution_count": 6,
   "metadata": {
    "deletable": false,
    "editable": false,
    "nbgrader": {
     "grade": true,
     "grade_id": "5-State Model Is Good",
     "locked": true,
     "points": "30",
     "solution": false
    },
    "scrolled": false
   },
   "outputs": [
    {
     "name": "stdout",
     "output_type": "stream",
     "text": [
      "Your model is sufficiently accurate\n"
     ]
    }
   ],
   "source": [
    "assert score > 0.95, 'Your score is not greater than 0.95'\n",
    "print('Your model is sufficiently accurate')"
   ]
  }
 ],
 "metadata": {
  "kernelspec": {
   "display_name": "Python 3.8",
   "language": "python",
   "name": "python38"
  },
  "language_info": {
   "codemirror_mode": {
    "name": "ipython",
    "version": 3
   },
   "file_extension": ".py",
   "mimetype": "text/x-python",
   "name": "python",
   "nbconvert_exporter": "python",
   "pygments_lexer": "ipython3",
   "version": "3.8.7"
  }
 },
 "nbformat": 4,
 "nbformat_minor": 2
}
