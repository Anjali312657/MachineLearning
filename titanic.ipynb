{
 "cells": [
  {
   "cell_type": "code",
   "execution_count": 14,
   "metadata": {
    "deletable": false,
    "editable": false,
    "nbgrader": {
     "grade": false,
     "locked": true,
     "solution": false
    },
    "scrolled": true
   },
   "outputs": [
    {
     "name": "stdout",
     "output_type": "stream",
     "text": [
      "The data have the following features: age, boat, body, cabin, embarked, fare, home.dest, name, parch, pclass, sex, sibsp, survived, ticket\n",
      "male      1709\n",
      "female     488\n",
      "Name: sex, dtype: int64\n",
      "There were 323 people in first class\n",
      "There were 172 kids on board\n"
     ]
    }
   ],
   "source": [
    "import json\n",
    "import numpy\n",
    "import os\n",
    "import pandas\n",
    "import random\n",
    "\n",
    "# Load in data from \"publicdata\" folder in Vocareum workspace\n",
    "fname = os.path.join('..', 'resource', 'asnlib', 'publicdata', 'titanic.csv')\n",
    "data = pandas.read_csv(fname)\n",
    "# Print out the features in the data\n",
    "print(f'The data have the following features: {\", \".join(sorted(data.columns))}')\n",
    "# Print out some example stats\n",
    "print(data['sex'].value_counts())\n",
    "first_class = data[data['pclass'] == '1']\n",
    "print(f'There were {len(first_class)} people in first class')\n",
    "kids = data[data['age']<18]\n",
    "print(f'There were {len(kids)} kids on board')\n",
    "\n",
    "def survival_difference(threshold):\n",
    "    \"\"\"Function for computing the difference in survival % between people whose fare was \n",
    "    above the threshold vs. those below\"\"\"\n",
    "    hi = data[data['fare'] >= threshold]\n",
    "    lo = data[data['fare'] < threshold]\n",
    "    hi_rate = len(hi[hi['survived'] ==1])/len(hi)\n",
    "    lo_rate = len(lo[lo['survived'] ==1])/len(lo)\n",
    "    return(hi_rate-lo_rate)\n"
   ]
  },
  {
   "cell_type": "code",
   "execution_count": 17,
   "metadata": {
    "scrolled": false
   },
   "outputs": [
    {
     "name": "stdout",
     "output_type": "stream",
     "text": [
      "3                   709\n",
      "victualling crew    430\n",
      "engineering crew    324\n",
      "1                   323\n",
      "2                   277\n",
      "restaurant staff     69\n",
      "deck crew            65\n",
      "Name: pclass, dtype: int64\n"
     ]
    }
   ],
   "source": [
    "#number one\n",
    "first_class = len(data[data['pclass'] == '1'])\n",
    "second_class = len(data[data['pclass'] == '2'])\n",
    "third_class = len(data[data['pclass'] == '3'])\n",
    "number_one = (first_class + second_class + third_class)\n",
    "\n",
    "#number two\n",
    "\n",
    "pclass_values = data['pclass'].value_counts()\n",
    "print(pclass_values)\n",
    "\n",
    "crew = ['victualling crew', 'engineering crew', 'restaurant staff', 'deck crew']\n",
    "crew_members = data['pclass'].isin(crew)\n",
    "crew_data = data[crew_members]\n",
    "\n",
    "number_two = len(crew_data[crew_data['survived'] == 1])\n",
    "\n",
    "#number three\n",
    "number_three = data['fare'].max()\n",
    "\n",
    "#number four\n",
    "first_class = len(data[data['pclass'] == '1'])\n",
    "second_class = len(data[data['pclass'] == '2'])\n",
    "third_class = len(data[data['pclass'] == '3'])\n",
    "\n",
    "\n",
    "first_class_survived = len(data[(data['pclass'] == '1') & (data['survived'] == 1)])\n",
    "second_class_survived = len(data[(data['pclass'] == '2') & (data['survived'] == 1)])\n",
    "third_class_survived = len(data[(data['pclass'] == '3') & (data['survived'] == 1)])\n",
    "\n",
    "\n",
    "first_class_rate = first_class_survived/first_class\n",
    "second_class_rate = second_class_survived/second_class\n",
    "third_class_rate = third_class_survived/third_class\n",
    "\n",
    "\n",
    "max_rate = max((first_class_rate,1),(second_class_rate,2),(third_class_rate,3))\n",
    "number_four = max_rate[1]\n",
    "\n",
    "                       \n",
    "\n",
    "# Replace the 0 in the following assignment with the number of passengers in the data\n",
    "passenger_count = number_one\n",
    "\n",
    "# Replace the 0 with the number of crew (i.e., non-passengers) who survived\n",
    "crew_survivor_count = number_two\n",
    "\n",
    "# Replace the 0 with the highest fare paid\n",
    "highest_fare = number_three\n",
    "\n",
    "# Replace the 0 with 1, 2, or 3 to indicate which passenger class had the highest percentage of survival\n",
    "highest_survivor_class = number_four\n",
    "\n",
    "# Replace the right-hand side with your own fare threshold\n",
    "fare_threshold = 64\n",
    "\n",
    "\n"
   ]
  },
  {
   "cell_type": "code",
   "execution_count": 4,
   "metadata": {
    "deletable": false,
    "editable": false,
    "nbgrader": {
     "grade": true,
     "grade_id": "Passengers",
     "locked": true,
     "points": "20",
     "solution": false
    },
    "scrolled": false
   },
   "outputs": [
    {
     "name": "stdout",
     "output_type": "stream",
     "text": [
      "Your passenger count is 1309\n"
     ]
    }
   ],
   "source": [
    "print(f'Your passenger count is {passenger_count}')\n",
    "###\n",
    "### AUTOGRADER TEST - DO NOT REMOVE\n",
    "###\n"
   ]
  },
  {
   "cell_type": "code",
   "execution_count": 18,
   "metadata": {
    "deletable": false,
    "editable": false,
    "nbgrader": {
     "grade": true,
     "grade_id": "Survivors",
     "locked": true,
     "points": "20",
     "solution": false
    },
    "scrolled": true
   },
   "outputs": [
    {
     "name": "stdout",
     "output_type": "stream",
     "text": [
      "Your survivor count is 209\n"
     ]
    }
   ],
   "source": [
    "print(f'Your survivor count is {crew_survivor_count}')\n",
    "\n"
   ]
  },
  {
   "cell_type": "code",
   "execution_count": 6,
   "metadata": {
    "deletable": false,
    "editable": false,
    "nbgrader": {
     "grade": true,
     "grade_id": "Fare",
     "locked": true,
     "points": "20",
     "solution": false
    }
   },
   "outputs": [
    {
     "name": "stdout",
     "output_type": "stream",
     "text": [
      "Your highest fare is 512.3292\n"
     ]
    }
   ],
   "source": [
    "print(f'Your highest fare is {highest_fare}')\n",
    "\n"
   ]
  },
  {
   "cell_type": "code",
   "execution_count": 7,
   "metadata": {
    "deletable": false,
    "editable": false,
    "nbgrader": {
     "grade": true,
     "grade_id": "Class",
     "locked": true,
     "points": "20",
     "solution": false
    },
    "scrolled": true
   },
   "outputs": [
    {
     "name": "stdout",
     "output_type": "stream",
     "text": [
      "Your highest-surviving class is 1\n"
     ]
    }
   ],
   "source": [
    "print(f'Your highest-surviving class is {highest_survivor_class}')\n",
    "\n"
   ]
  },
  {
   "cell_type": "code",
   "execution_count": 8,
   "metadata": {
    "deletable": false,
    "editable": false,
    "nbgrader": {
     "grade": true,
     "grade_id": "Threshold",
     "locked": true,
     "points": "20",
     "solution": false
    },
    "scrolled": false
   },
   "outputs": [
    {
     "name": "stdout",
     "output_type": "stream",
     "text": [
      "Your chosen fare threshold is 64\n",
      "People above that threshold survived 30.02% more often than people below\n"
     ]
    }
   ],
   "source": [
    "print(f'Your chosen fare threshold is {fare_threshold}')\n",
    "survival_diff = survival_difference(fare_threshold)\n",
    "print(f'People above that threshold survived {survival_diff*100:.2f}% more often than people below')\n",
    "\n"
   ]
  }
 ],
 "metadata": {
  "kernelspec": {
   "display_name": "Python 3.8",
   "language": "python",
   "name": "python38"
  },
  "language_info": {
   "codemirror_mode": {
    "name": "ipython",
    "version": 3
   },
   "file_extension": ".py",
   "mimetype": "text/x-python",
   "name": "python",
   "nbconvert_exporter": "python",
   "pygments_lexer": "ipython3",
   "version": "3.8.7"
  }
 },
 "nbformat": 4,
 "nbformat_minor": 2
}
